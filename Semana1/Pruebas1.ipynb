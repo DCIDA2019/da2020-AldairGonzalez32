{
 "cells": [
  {
   "cell_type": "code",
   "execution_count": 1,
   "metadata": {},
   "outputs": [
    {
     "name": "stdout",
     "output_type": "stream",
     "text": [
      "Populating the interactive namespace from numpy and matplotlib\n"
     ]
    }
   ],
   "source": [
    "import numpy as np\n",
    "import matplotlib.pyplot as plt\n",
    "%pylab inline"
   ]
  },
  {
   "cell_type": "code",
   "execution_count": 15,
   "metadata": {},
   "outputs": [],
   "source": [
    "a=3\n",
    "b=2\n",
    "c=a*b\n",
    "mensaje=\"Hola\"\n",
    "mensaje2=\"Aldair\""
   ]
  },
  {
   "cell_type": "code",
   "execution_count": 16,
   "metadata": {},
   "outputs": [
    {
     "data": {
      "text/plain": [
       "'Hola Aldair'"
      ]
     },
     "execution_count": 16,
     "metadata": {},
     "output_type": "execute_result"
    }
   ],
   "source": [
    "mensaje+\" \"+mensaje2\n"
   ]
  },
  {
   "cell_type": "code",
   "execution_count": 12,
   "metadata": {},
   "outputs": [
    {
     "data": {
      "text/plain": [
       "int"
      ]
     },
     "execution_count": 12,
     "metadata": {},
     "output_type": "execute_result"
    }
   ],
   "source": [
    "type(a)"
   ]
  },
  {
   "cell_type": "code",
   "execution_count": 13,
   "metadata": {},
   "outputs": [
    {
     "data": {
      "text/plain": [
       "float"
      ]
     },
     "execution_count": 13,
     "metadata": {},
     "output_type": "execute_result"
    }
   ],
   "source": [
    "a=a*2.\n",
    "type(a)\n",
    "\n"
   ]
  },
  {
   "cell_type": "code",
   "execution_count": 19,
   "metadata": {},
   "outputs": [
    {
     "data": {
      "text/plain": [
       "9"
      ]
     },
     "execution_count": 19,
     "metadata": {},
     "output_type": "execute_result"
    }
   ],
   "source": [
    "np.power(3,2)"
   ]
  },
  {
   "cell_type": "code",
   "execution_count": 20,
   "metadata": {},
   "outputs": [
    {
     "data": {
      "text/plain": [
       "[1, 2, 3, 'hola', 3.1416]"
      ]
     },
     "execution_count": 20,
     "metadata": {},
     "output_type": "execute_result"
    }
   ],
   "source": [
    "lista=[1,2,3,\"hola\",3.1416]\n",
    "lista"
   ]
  },
  {
   "cell_type": "code",
   "execution_count": 22,
   "metadata": {},
   "outputs": [
    {
     "data": {
      "text/plain": [
       "list"
      ]
     },
     "execution_count": 22,
     "metadata": {},
     "output_type": "execute_result"
    }
   ],
   "source": [
    "type(lista)"
   ]
  },
  {
   "cell_type": "code",
   "execution_count": 30,
   "metadata": {},
   "outputs": [],
   "source": [
    "arreglo=np.asarray([1,2.0,3.0,4])"
   ]
  },
  {
   "cell_type": "code",
   "execution_count": 31,
   "metadata": {},
   "outputs": [
    {
     "data": {
      "text/plain": [
       "numpy.float64"
      ]
     },
     "execution_count": 31,
     "metadata": {},
     "output_type": "execute_result"
    }
   ],
   "source": [
    "type(arreglo[0])"
   ]
  },
  {
   "cell_type": "code",
   "execution_count": 98,
   "metadata": {},
   "outputs": [],
   "source": [
    "np.asarray?"
   ]
  },
  {
   "cell_type": "code",
   "execution_count": 33,
   "metadata": {},
   "outputs": [
    {
     "data": {
      "text/plain": [
       "(array([0., 0., 0., 0., 0., 0., 0., 0., 0., 0.]),\n",
       " array([1., 1., 1., 1., 1., 1., 1., 1., 1., 1.]))"
      ]
     },
     "execution_count": 33,
     "metadata": {},
     "output_type": "execute_result"
    }
   ],
   "source": [
    "zeros_=np.zeros(10)\n",
    "ones_=np.ones(10)\n",
    "\n",
    "zeros_, ones_"
   ]
  },
  {
   "cell_type": "code",
   "execution_count": 34,
   "metadata": {},
   "outputs": [
    {
     "data": {
      "text/plain": [
       "array([0., 0., 0., 0., 0., 0., 0., 0., 0., 0.])"
      ]
     },
     "execution_count": 34,
     "metadata": {},
     "output_type": "execute_result"
    }
   ],
   "source": [
    "ones_*zeros_\n"
   ]
  },
  {
   "cell_type": "code",
   "execution_count": 35,
   "metadata": {},
   "outputs": [
    {
     "data": {
      "text/plain": [
       "array([1., 1., 1., 1., 1., 1., 1., 1., 1., 1.])"
      ]
     },
     "execution_count": 35,
     "metadata": {},
     "output_type": "execute_result"
    }
   ],
   "source": [
    "ones_+zeros_\n"
   ]
  },
  {
   "cell_type": "code",
   "execution_count": 36,
   "metadata": {},
   "outputs": [
    {
     "name": "stdout",
     "output_type": "stream",
     "text": [
      "[1. 1. 1. 1. 1. 1. 1. 1. 1. 1.]\n"
     ]
    }
   ],
   "source": [
    "for i in range(10):\n",
    "    ones_2=zeros_+1\n",
    "    \n",
    "print(ones_2)"
   ]
  },
  {
   "cell_type": "code",
   "execution_count": 38,
   "metadata": {},
   "outputs": [
    {
     "data": {
      "text/plain": [
       "array([1., 1., 1., 1., 1., 1., 1., 1., 1., 1.])"
      ]
     },
     "execution_count": 38,
     "metadata": {},
     "output_type": "execute_result"
    }
   ],
   "source": [
    "ones_2=zeros_+1\n",
    "ones_2"
   ]
  },
  {
   "cell_type": "code",
   "execution_count": 51,
   "metadata": {},
   "outputs": [
    {
     "name": "stdout",
     "output_type": "stream",
     "text": [
      "[-5.         -4.58333333 -4.16666667 -3.75       -3.33333333 -2.91666667\n",
      " -2.5        -2.08333333 -1.66666667 -1.25       -0.83333333 -0.41666667\n",
      "  0.          0.41666667  0.83333333  1.25        1.66666667  2.08333333\n",
      "  2.5         2.91666667  3.33333333  3.75        4.16666667  4.58333333\n",
      "  5.        ]\n"
     ]
    },
    {
     "data": {
      "text/plain": [
       "25"
      ]
     },
     "execution_count": 51,
     "metadata": {},
     "output_type": "execute_result"
    }
   ],
   "source": [
    "x=np.linspace(-5,5,25)\n",
    "x2=np.linspace(-5,5,40)\n",
    "print(x)\n",
    "len(x)"
   ]
  },
  {
   "cell_type": "code",
   "execution_count": 48,
   "metadata": {},
   "outputs": [
    {
     "name": "stdout",
     "output_type": "stream",
     "text": [
      "40\n",
      "[-5.   -4.75 -4.5  -4.25 -4.   -3.75 -3.5  -3.25 -3.   -2.75 -2.5  -2.25\n",
      " -2.   -1.75 -1.5  -1.25 -1.   -0.75 -0.5  -0.25  0.    0.25  0.5   0.75\n",
      "  1.    1.25  1.5   1.75  2.    2.25  2.5   2.75  3.    3.25  3.5   3.75\n",
      "  4.    4.25  4.5   4.75]\n"
     ]
    }
   ],
   "source": [
    "y=np.arange(-5,5,0.25)\n",
    "print(len(y))\n",
    "print(y)"
   ]
  },
  {
   "cell_type": "code",
   "execution_count": 52,
   "metadata": {},
   "outputs": [
    {
     "data": {
      "text/plain": [
       "array([25.        , 22.53205128, 20.19230769, 17.98076923, 15.8974359 ,\n",
       "       13.94230769, 12.11538462, 10.41666667,  8.84615385,  7.40384615,\n",
       "        6.08974359,  4.90384615,  3.84615385,  2.91666667,  2.11538462,\n",
       "        1.44230769,  0.8974359 ,  0.48076923,  0.19230769,  0.03205128,\n",
       "        0.        ,  0.09615385,  0.32051282,  0.67307692,  1.15384615,\n",
       "        1.76282051,  2.5       ,  3.36538462,  4.35897436,  5.48076923,\n",
       "        6.73076923,  8.10897436,  9.61538462, 11.25      , 13.01282051,\n",
       "       14.90384615, 16.92307692, 19.07051282, 21.34615385, 23.75      ])"
      ]
     },
     "execution_count": 52,
     "metadata": {},
     "output_type": "execute_result"
    }
   ],
   "source": [
    "x2*y"
   ]
  },
  {
   "cell_type": "code",
   "execution_count": 54,
   "metadata": {},
   "outputs": [
    {
     "name": "stdout",
     "output_type": "stream",
     "text": [
      "CPU times: user 13 µs, sys: 3 µs, total: 16 µs\n",
      "Wall time: 19.3 µs\n"
     ]
    },
    {
     "data": {
      "text/plain": [
       "array([25.        , 21.00694444, 17.36111111, 14.0625    , 11.11111111,\n",
       "        8.50694444,  6.25      ,  4.34027778,  2.77777778,  1.5625    ,\n",
       "        0.69444444,  0.17361111,  0.        ,  0.17361111,  0.69444444,\n",
       "        1.5625    ,  2.77777778,  4.34027778,  6.25      ,  8.50694444,\n",
       "       11.11111111, 14.0625    , 17.36111111, 21.00694444, 25.        ])"
      ]
     },
     "execution_count": 54,
     "metadata": {},
     "output_type": "execute_result"
    }
   ],
   "source": [
    "%time x*x"
   ]
  },
  {
   "cell_type": "code",
   "execution_count": 56,
   "metadata": {},
   "outputs": [
    {
     "name": "stdout",
     "output_type": "stream",
     "text": [
      "CPU times: user 12 µs, sys: 3 µs, total: 15 µs\n",
      "Wall time: 17.4 µs\n"
     ]
    },
    {
     "data": {
      "text/plain": [
       "array([25.        , 21.00694444, 17.36111111, 14.0625    , 11.11111111,\n",
       "        8.50694444,  6.25      ,  4.34027778,  2.77777778,  1.5625    ,\n",
       "        0.69444444,  0.17361111,  0.        ,  0.17361111,  0.69444444,\n",
       "        1.5625    ,  2.77777778,  4.34027778,  6.25      ,  8.50694444,\n",
       "       11.11111111, 14.0625    , 17.36111111, 21.00694444, 25.        ])"
      ]
     },
     "execution_count": 56,
     "metadata": {},
     "output_type": "execute_result"
    }
   ],
   "source": [
    "%time x**2"
   ]
  },
  {
   "cell_type": "code",
   "execution_count": 57,
   "metadata": {},
   "outputs": [],
   "source": [
    "#Funciones\n"
   ]
  },
  {
   "cell_type": "code",
   "execution_count": 68,
   "metadata": {},
   "outputs": [],
   "source": [
    "fx=lambda x, y: np.cos(x)*np.sqrt(y)\n"
   ]
  },
  {
   "cell_type": "code",
   "execution_count": 70,
   "metadata": {},
   "outputs": [
    {
     "name": "stderr",
     "output_type": "stream",
     "text": [
      "/usr/lib/python3.7/site-packages/ipykernel_launcher.py:1: RuntimeWarning: invalid value encountered in sqrt\n",
      "  \"\"\"Entry point for launching an IPython kernel.\n"
     ]
    },
    {
     "data": {
      "text/plain": [
       "array([        nan,         nan,         nan,         nan,         nan,\n",
       "               nan,         nan,         nan,         nan,         nan,\n",
       "               nan,         nan,         nan,         nan,         nan,\n",
       "               nan,         nan,         nan,         nan,         nan,\n",
       "        0.        ,  0.4634714 ,  0.56673394,  0.54006769,  0.4049738 ,\n",
       "        0.17871908, -0.11723692, -0.45644402, -0.80863873, -1.14174126,\n",
       "       -1.42422328, -1.62756275, -1.72855604, -1.71128922, -1.56860391,\n",
       "       -1.30293323, -0.92643056, -0.46036653,  0.06617608,  0.6182274 ])"
      ]
     },
     "execution_count": 70,
     "metadata": {},
     "output_type": "execute_result"
    }
   ],
   "source": [
    "fx(x2,y)"
   ]
  },
  {
   "cell_type": "code",
   "execution_count": 71,
   "metadata": {},
   "outputs": [],
   "source": [
    "def funcion1():\n",
    "    print(\"Hola\")\n",
    "    return"
   ]
  },
  {
   "cell_type": "code",
   "execution_count": 72,
   "metadata": {},
   "outputs": [
    {
     "name": "stdout",
     "output_type": "stream",
     "text": [
      "Hola\n"
     ]
    }
   ],
   "source": [
    "funcion1()"
   ]
  },
  {
   "cell_type": "code",
   "execution_count": 81,
   "metadata": {},
   "outputs": [],
   "source": [
    "def funcion2(x,y):\n",
    "    resultado=x*y\n",
    "    print(resultado)\n",
    "    return resultado\n"
   ]
  },
  {
   "cell_type": "code",
   "execution_count": 78,
   "metadata": {},
   "outputs": [
    {
     "name": "stdout",
     "output_type": "stream",
     "text": [
      "[25.         22.53205128 20.19230769 17.98076923 15.8974359  13.94230769\n",
      " 12.11538462 10.41666667  8.84615385  7.40384615  6.08974359  4.90384615\n",
      "  3.84615385  2.91666667  2.11538462  1.44230769  0.8974359   0.48076923\n",
      "  0.19230769  0.03205128  0.          0.09615385  0.32051282  0.67307692\n",
      "  1.15384615  1.76282051  2.5         3.36538462  4.35897436  5.48076923\n",
      "  6.73076923  8.10897436  9.61538462 11.25       13.01282051 14.90384615\n",
      " 16.92307692 19.07051282 21.34615385 23.75      ]\n"
     ]
    }
   ],
   "source": [
    "res=funcion2(x2,y)"
   ]
  },
  {
   "cell_type": "code",
   "execution_count": 79,
   "metadata": {},
   "outputs": [
    {
     "data": {
      "text/plain": [
       "array([25.        , 22.53205128, 20.19230769, 17.98076923, 15.8974359 ,\n",
       "       13.94230769, 12.11538462, 10.41666667,  8.84615385,  7.40384615,\n",
       "        6.08974359,  4.90384615,  3.84615385,  2.91666667,  2.11538462,\n",
       "        1.44230769,  0.8974359 ,  0.48076923,  0.19230769,  0.03205128,\n",
       "        0.        ,  0.09615385,  0.32051282,  0.67307692,  1.15384615,\n",
       "        1.76282051,  2.5       ,  3.36538462,  4.35897436,  5.48076923,\n",
       "        6.73076923,  8.10897436,  9.61538462, 11.25      , 13.01282051,\n",
       "       14.90384615, 16.92307692, 19.07051282, 21.34615385, 23.75      ])"
      ]
     },
     "execution_count": 79,
     "metadata": {},
     "output_type": "execute_result"
    }
   ],
   "source": [
    "res"
   ]
  },
  {
   "cell_type": "code",
   "execution_count": 97,
   "metadata": {},
   "outputs": [
    {
     "data": {
      "text/plain": [
       "<matplotlib.legend.Legend at 0x7fd820bda410>"
      ]
     },
     "execution_count": 97,
     "metadata": {},
     "output_type": "execute_result"
    },
    {
     "data": {
      "image/png": "[encoded data removed]",
      "text/plain": [
       "<Figure size 432x288 with 1 Axes>"
      ]
     },
     "metadata": {},
     "output_type": "display_data"
    }
   ],
   "source": [
    "plt.plot(x,x**2,\"r--\",label=r\"$x^2$\")\n",
    "plt.plot(x,x**3,\"k\",label=r\"$x^3$\")\n",
    "plt.xlabel(\"X\")\n",
    "plt.ylabel(\"Y\")\n",
    "plt.title(\"Figura 1\")\n",
    "plt.savefig(\"Figura1.png\")\n",
    "plt.legend()"
   ]
  },
  {
   "cell_type": "code",
   "execution_count": null,
   "metadata": {},
   "outputs": [],
   "source": []
  }
 ],
 "metadata": {
  "kernelspec": {
   "display_name": "Python 3",
   "language": "python",
   "name": "python3"
  },
  "language_info": {
   "codemirror_mode": {
    "name": "ipython",
    "version": 3
   },
   "file_extension": ".py",
   "mimetype": "text/x-python",
   "name": "python",
   "nbconvert_exporter": "python",
   "pygments_lexer": "ipython3",
   "version": "3.7.4"
  }
 },
 "nbformat": 4,
 "nbformat_minor": 2
}
